{
 "cells": [
  {
   "cell_type": "markdown",
   "id": "e9940109",
   "metadata": {},
   "source": [
    "# Pruebas para integración de una interfaz gráfica"
   ]
  },
  {
   "cell_type": "code",
   "execution_count": 1,
   "id": "e7325592",
   "metadata": {},
   "outputs": [
    {
     "name": "stdout",
     "output_type": "stream",
     "text": [
      "Collecting tk\n",
      "  Downloading tk-0.1.0-py3-none-any.whl (3.9 kB)\n",
      "Installing collected packages: tk\n",
      "Successfully installed tk-0.1.0\n"
     ]
    }
   ],
   "source": [
    "!pip install tk"
   ]
  },
  {
   "cell_type": "code",
   "execution_count": 2,
   "id": "ca549dc9",
   "metadata": {},
   "outputs": [],
   "source": [
    "import tkinter as tk"
   ]
  },
  {
   "cell_type": "code",
   "execution_count": 7,
   "id": "5973fa33",
   "metadata": {},
   "outputs": [],
   "source": [
    "# Creaciónde una ventana.\n",
    "window = tk.Tk()\n",
    "window.geometry(\"1920x1080\")\n",
    "\n",
    "button = tk.Button(window,text=\"Dame duro\")\n",
    "button.pack()\n",
    "\n",
    "window.mainloop()"
   ]
  }
 ],
 "metadata": {
  "kernelspec": {
   "display_name": "Python 3 (ipykernel)",
   "language": "python",
   "name": "python3"
  },
  "language_info": {
   "codemirror_mode": {
    "name": "ipython",
    "version": 3
   },
   "file_extension": ".py",
   "mimetype": "text/x-python",
   "name": "python",
   "nbconvert_exporter": "python",
   "pygments_lexer": "ipython3",
   "version": "3.9.13"
  }
 },
 "nbformat": 4,
 "nbformat_minor": 5
}
