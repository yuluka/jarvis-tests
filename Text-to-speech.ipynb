{
 "cells": [
  {
   "cell_type": "markdown",
   "id": "d4ab97b5",
   "metadata": {},
   "source": [
    "# Texto a voz"
   ]
  },
  {
   "cell_type": "code",
   "execution_count": 1,
   "id": "ae0f6b35",
   "metadata": {},
   "outputs": [],
   "source": [
    "# !pip install --upgrade google-cloud-texttospeech"
   ]
  },
  {
   "cell_type": "code",
   "execution_count": 2,
   "id": "14fbef30",
   "metadata": {},
   "outputs": [],
   "source": [
    "# !pip install pydub"
   ]
  },
  {
   "cell_type": "code",
   "execution_count": 17,
   "id": "d2548c19",
   "metadata": {},
   "outputs": [
    {
     "name": "stdout",
     "output_type": "stream",
     "text": [
      "Collecting pyinstaller\n",
      "  Downloading pyinstaller-5.10.1-py3-none-win_amd64.whl (1.3 MB)\n",
      "     ---------------------------------------- 0.0/1.3 MB ? eta -:--:--\n",
      "     ------- -------------------------------- 0.2/1.3 MB 6.9 MB/s eta 0:00:01\n",
      "     -------------------- ------------------- 0.6/1.3 MB 10.2 MB/s eta 0:00:01\n",
      "     ---------------------------------------  1.3/1.3 MB 13.3 MB/s eta 0:00:01\n",
      "     ---------------------------------------- 1.3/1.3 MB 11.5 MB/s eta 0:00:00\n",
      "Requirement already satisfied: pywin32-ctypes>=0.2.0 in c:\\users\\usuario\\anaconda3\\lib\\site-packages (from pyinstaller) (0.2.0)\n",
      "Collecting altgraph\n",
      "  Downloading altgraph-0.17.3-py2.py3-none-any.whl (21 kB)\n",
      "Collecting pefile>=2022.5.30\n",
      "  Downloading pefile-2023.2.7-py3-none-any.whl (71 kB)\n",
      "     ---------------------------------------- 0.0/71.8 kB ? eta -:--:--\n",
      "     ---------------------------------------- 71.8/71.8 kB ? eta 0:00:00\n",
      "Collecting pyinstaller-hooks-contrib>=2021.4\n",
      "  Downloading pyinstaller_hooks_contrib-2023.2-py2.py3-none-any.whl (261 kB)\n",
      "     ---------------------------------------- 0.0/262.0 kB ? eta -:--:--\n",
      "     ------------------------------------- 262.0/262.0 kB 15.7 MB/s eta 0:00:00\n",
      "Requirement already satisfied: setuptools>=42.0.0 in c:\\users\\usuario\\anaconda3\\lib\\site-packages (from pyinstaller) (66.0.0)\n",
      "Installing collected packages: altgraph, pyinstaller-hooks-contrib, pefile, pyinstaller\n",
      "Successfully installed altgraph-0.17.3 pefile-2023.2.7 pyinstaller-5.10.1 pyinstaller-hooks-contrib-2023.2\n"
     ]
    }
   ],
   "source": [
    "# !pip install pyinstaller"
   ]
  },
  {
   "cell_type": "code",
   "execution_count": 3,
   "id": "50d60744",
   "metadata": {},
   "outputs": [],
   "source": [
    "from google.cloud import texttospeech\n",
    "import os\n",
    "\n",
    "from pydub import AudioSegment\n",
    "from pydub.playback import play"
   ]
  },
  {
   "cell_type": "code",
   "execution_count": 4,
   "id": "f41e08d2",
   "metadata": {},
   "outputs": [],
   "source": [
    "os.environ[\"GOOGLE_APPLICATION_CREDENTIALS\"] = \"C:/Users/usuario/Jarvis/jarvis-381306-4975f3ce0efb.json\""
   ]
  },
  {
   "cell_type": "code",
   "execution_count": 10,
   "id": "cbef9816",
   "metadata": {},
   "outputs": [],
   "source": [
    "client = texttospeech.TextToSpeechClient()\n",
    "\n",
    "input_text = texttospeech.SynthesisInput(text=\"Lo que más me gusta en la vida es comer chocolate y estar con mi novia bella.\")"
   ]
  },
  {
   "cell_type": "code",
   "execution_count": 11,
   "id": "365592ba",
   "metadata": {},
   "outputs": [
    {
     "name": "stdout",
     "output_type": "stream",
     "text": [
      "Audio content written to file \"output.mp3\"\n"
     ]
    }
   ],
   "source": [
    "# Note: the voice can also be specified by name.\n",
    "# Names of voices can be retrieved with client.list_voices().\n",
    "voice = texttospeech.VoiceSelectionParams(\n",
    "    language_code=\"es-US\",\n",
    "    name=\"es-US-Neural2-C\",\n",
    "    ssml_gender=texttospeech.SsmlVoiceGender.MALE,\n",
    ")\n",
    "\n",
    "audio_config = texttospeech.AudioConfig(\n",
    "    audio_encoding=texttospeech.AudioEncoding.MP3\n",
    ")\n",
    "\n",
    "response = client.synthesize_speech(\n",
    "    request={\"input\": input_text, \"voice\": voice, \"audio_config\": audio_config}\n",
    ")\n",
    "\n",
    "# The response's audio_content is binary.\n",
    "with open(\"output.mp3\", \"wb\") as out:\n",
    "    out.write(response.audio_content)\n",
    "    print('Audio content written to file \"output.mp3\"')"
   ]
  },
  {
   "cell_type": "code",
   "execution_count": 12,
   "id": "bf897e1c",
   "metadata": {},
   "outputs": [],
   "source": [
    "audio_segment = AudioSegment.from_file(\"C:/Users/usuario/Jarvis/output.mp3\", format=\"mp3\")\n",
    "play(audio_segment)"
   ]
  },
  {
   "cell_type": "code",
   "execution_count": 14,
   "id": "d43c2816",
   "metadata": {},
   "outputs": [],
   "source": [
    "def speak(to_say):\n",
    "    client = texttospeech.TextToSpeechClient()\n",
    "\n",
    "    input_text = texttospeech.SynthesisInput(text=to_say)\n",
    "    \n",
    "    voice = texttospeech.VoiceSelectionParams(\n",
    "    language_code=\"es-US\",\n",
    "    name=\"es-US-Neural2-C\",\n",
    "    ssml_gender=texttospeech.SsmlVoiceGender.MALE,\n",
    "    )\n",
    "\n",
    "    audio_config = texttospeech.AudioConfig(\n",
    "        audio_encoding=texttospeech.AudioEncoding.MP3\n",
    "    )\n",
    "\n",
    "    response = client.synthesize_speech(\n",
    "        request={\"input\": input_text, \"voice\": voice, \"audio_config\": audio_config}\n",
    "    )\n",
    "\n",
    "    # The response's audio_content is binary.\n",
    "    with open(\"speech.mp3\", \"wb\") as out:\n",
    "        out.write(response.audio_content)\n",
    "        \n",
    "    audio_segment = AudioSegment.from_file(\"C:/Users/usuario/Jarvis/speech.mp3\", format=\"mp3\")\n",
    "    play(audio_segment)"
   ]
  },
  {
   "cell_type": "code",
   "execution_count": 16,
   "id": "504a386a",
   "metadata": {},
   "outputs": [],
   "source": [
    "speak(\"La mamá de Dennis me la pela como un chimpancé pela su banana.\")"
   ]
  }
 ],
 "metadata": {
  "kernelspec": {
   "display_name": "Python 3 (ipykernel)",
   "language": "python",
   "name": "python3"
  },
  "language_info": {
   "codemirror_mode": {
    "name": "ipython",
    "version": 3
   },
   "file_extension": ".py",
   "mimetype": "text/x-python",
   "name": "python",
   "nbconvert_exporter": "python",
   "pygments_lexer": "ipython3",
   "version": "3.9.16"
  }
 },
 "nbformat": 4,
 "nbformat_minor": 5
}
